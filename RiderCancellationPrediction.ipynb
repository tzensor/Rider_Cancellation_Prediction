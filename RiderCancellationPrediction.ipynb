{
 "cells": [
  {
   "cell_type": "markdown",
   "metadata": {},
   "source": [
    "Authors: Bhadra Tendulkar (t.bhadra@iitg.ac.in) , Swastik Swaroop (s.swastik@iitg.ac.in), Ayush Jain (ayush.cl21@iitg.ac.in), Abhijit Pandey (p.abhijit@iitg.ac.in)"
   ]
  },
  {
   "cell_type": "code",
   "execution_count": 1,
   "metadata": {
    "_cell_guid": "b1076dfc-b9ad-4769-8c92-a6c4dae69d19",
    "_uuid": "8f2839f25d086af736a60e9eeb907d3b93b6e0e5"
   },
   "outputs": [],
   "source": [
    "import numpy as np \n",
    "import matplotlib.pyplot as plt\n",
    "import sklearn\n",
    "from sklearn.metrics import mean_absolute_error\n",
    "from sklearn.model_selection import train_test_split\n",
    "from sklearn.metrics import mean_squared_error\n",
    "from math import sqrt\n",
    "from sklearn.preprocessing import StandardScaler\n",
    "from sklearn.preprocessing import LabelEncoder\n",
    "from sklearn.linear_model import LogisticRegression\n",
    "from sklearn.linear_model import LinearRegression\n",
    "from sklearn.metrics import mean_squared_error\n",
    "from sklearn import preprocessing\n",
    "from sklearn.metrics import accuracy_score\n",
    "from sklearn.linear_model import Ridge\n",
    "from numpy import loadtxt\n",
    "from xgboost import XGBClassifier\n",
    "from sklearn.ensemble import RandomForestRegressor\n",
    "from xgboost import XGBRegressor\n",
    "import xgboost\n",
    "import pandas as pd\n",
    "from sklearn.metrics import roc_curve\n",
    "from sklearn.metrics import roc_auc_score"
   ]
  },
  {
   "cell_type": "code",
   "execution_count": 2,
   "metadata": {},
   "outputs": [],
   "source": [
    "import numpy as np\n",
    "import pandas as pd \n",
    "from tqdm import tqdm\n",
    "import math\n",
    "import time\n",
    "import lightgbm as lgb\n",
    "import seaborn as sns\n",
    "import xgboost as xgb\n",
    "from catboost import CatBoostClassifier\n",
    "from sklearn.preprocessing import LabelEncoder\n",
    "from sklearn.manifold import TSNE\n",
    "from sklearn.decomposition import PCA, TruncatedSVD\n",
    "from sklearn.ensemble import RandomForestClassifier\n",
    "from sklearn.metrics import classification_report, confusion_matrix, accuracy_score,roc_auc_score\n",
    "from sklearn.model_selection import StratifiedKFold\n",
    "from sklearn.metrics import classification_report, confusion_matrix\n",
    "from sklearn.ensemble import AdaBoostClassifier\n",
    "from sklearn.neighbors import KNeighborsClassifier\n",
    "\n",
    "tqdm.pandas()"
   ]
  },
  {
   "cell_type": "code",
   "execution_count": 5,
   "metadata": {},
   "outputs": [],
   "source": [
    "train = pd.read_csv('train.csv')\n",
    "test = pd.read_csv('test.csv')\n",
    "sample_submission = pd.read_csv('submission.csv')"
   ]
  },
  {
   "cell_type": "code",
   "execution_count": 22,
   "metadata": {},
   "outputs": [
    {
     "data": {
      "text/plain": [
       "0        2021-01-26 02:21:35\n",
       "1        2021-01-26 02:33:16\n",
       "2        2021-01-26 02:39:49\n",
       "3        2021-01-26 02:47:53\n",
       "4        2021-01-26 03:06:30\n",
       "                 ...        \n",
       "449995   2021-02-06 10:03:16\n",
       "449996   2021-02-06 10:03:17\n",
       "449997   2021-02-06 10:03:18\n",
       "449998   2021-02-06 10:03:19\n",
       "449999   2021-02-06 10:03:24\n",
       "Name: order_time, Length: 450000, dtype: datetime64[ns]"
      ]
     },
     "execution_count": 22,
     "metadata": {},
     "output_type": "execute_result"
    }
   ],
   "source": [
    "train['order_time']"
   ]
  },
  {
   "cell_type": "code",
   "execution_count": 26,
   "metadata": {},
   "outputs": [
    {
     "data": {
      "text/plain": [
       "Index(['order_time', 'order_date', 'allot_time', 'accept_time', 'pickup_time',\n",
       "       'delivered_time', 'rider_id', 'first_mile_distance',\n",
       "       'last_mile_distance', 'alloted_orders', 'delivered_orders', 'cancelled',\n",
       "       'undelivered_orders', 'lifetime_order_count', 'reassignment_method',\n",
       "       'reassignment_reason', 'reassigned_order', 'session_time',\n",
       "       'cancelled_time'],\n",
       "      dtype='object')"
      ]
     },
     "execution_count": 26,
     "metadata": {},
     "output_type": "execute_result"
    }
   ],
   "source": [
    "train.columns"
   ]
  },
  {
   "cell_type": "code",
   "execution_count": 7,
   "metadata": {},
   "outputs": [],
   "source": [
    "id_columns = ['order_id']\n",
    "\n",
    "time_columns = ['order_time', 'order_date', 'allot_time', 'accept_time',\n",
    "       'pickup_time', 'delivered_time','cancelled_time']\n",
    "\n",
    "categorical_columns = ['reassignment_method','reassignment_reason']"
   ]
  },
  {
   "cell_type": "markdown",
   "metadata": {},
   "source": [
    "# Converting to datetime and object\n"
   ]
  },
  {
   "cell_type": "code",
   "execution_count": 10,
   "metadata": {},
   "outputs": [],
   "source": [
    "ids = train[id_columns]\n",
    "train = train.drop(ids, axis=1)\n",
    "test = test.drop(ids,axis=1)\n",
    "\n",
    "for col in time_columns:\n",
    "    train[col] = pd.to_datetime(train[col])\n",
    "    try:\n",
    "        test[col] = pd.to_datetime(test[col])\n",
    "    except:\n",
    "        continue\n",
    "\n",
    "for col in categorical_columns:\n",
    "    train[col] = train[col].astype('object')\n",
    "    try:\n",
    "        test[col] = test[col].astype('object')\n",
    "    except:\n",
    "        continue\n"
   ]
  },
  {
   "cell_type": "markdown",
   "metadata": {},
   "source": [
    "# Preprocessing"
   ]
  },
  {
   "cell_type": "code",
   "execution_count": 13,
   "metadata": {},
   "outputs": [],
   "source": [
    "def peak_hour(x):\n",
    "    if x>=8 and x<=11:\n",
    "        return 1\n",
    "    if x>=13 and x<=19:\n",
    "        return 1\n",
    "    return 0\n",
    "\n",
    "def log_normal(x):\n",
    "    if x==0:\n",
    "        return 0\n",
    "    if x>0:\n",
    "        return math.log(x)\n",
    "    else:\n",
    "        return math.log(abs(x))"
   ]
  },
  {
   "cell_type": "code",
   "execution_count": 52,
   "metadata": {},
   "outputs": [],
   "source": [
    "def preprocess(df):\n",
    "    df = df.copy()  # Ensure we're working on a copy\n",
    "    df.loc[:, 'order_day'] = df['order_date'].dt.dayofyear\n",
    "    df.loc[:, 'diff_allot_order'] = (df['allot_time'] - df['order_time']).dt.total_seconds()\n",
    "    df.loc[:, 'diff_accept_allot'] = (df['accept_time'] - df['allot_time']).dt.total_seconds()\n",
    "    df.loc[:, 'diff_accept_order'] = (df['accept_time'] - df['order_time']).dt.total_seconds()\n",
    "    df.loc[:, 'total_dist'] = df['first_mile_distance'] + df['last_mile_distance']\n",
    "    df.loc[:, 'hour_in_day'] = df['order_time'].dt.hour\n",
    "    df.loc[:, 'day_of_week'] = df['order_date'].dt.dayofweek\n",
    "\n",
    "    # Group and cumulative sum\n",
    "    df[['cum_diff_allot_order', 'cum_diff_accept_allot', 'cum_diff_accept_order',\n",
    "        'cum_total_dist', 'cum_first_mile_dist', 'cum_last_mile_dist']] = df.groupby(\n",
    "        ['rider_id', 'order_date'])[['diff_allot_order', 'diff_accept_allot',\n",
    "                                     'diff_accept_order', 'total_dist',\n",
    "                                     'first_mile_distance', 'last_mile_distance']].cumsum()\n",
    "\n",
    "    df.loc[:, 'order_today'] = df.groupby(['rider_id', 'order_date']).cumcount()\n",
    "    df.loc[:, 'orders_cum'] = df.groupby(['rider_id']).cumcount()\n",
    "    df.loc[:, 'reassigned_order'] = df['reassigned_order'].fillna(0)\n",
    "    df.loc[:, 'saturday'] = df['day_of_week'].apply(lambda x: 1 if x == 5 else 0)\n",
    "\n",
    "    for col in ['alloted_orders', 'delivered_orders', 'undelivered_orders']:\n",
    "        df[col] = df[col].fillna(0)\n",
    "\n",
    "    df.loc[:, 'orders_diff'] = df['alloted_orders'] - df['delivered_orders']\n",
    "    df.loc[:, 'riders_available'] = df.groupby(['order_date', 'hour_in_day'])['rider_id'].transform('count')\n",
    "    df.loc[:, 'reliability'] = ((df['alloted_orders'] - df['undelivered_orders']) * 100 / df['alloted_orders']).fillna(0)\n",
    "\n",
    "    cols = ['diff_allot_order', 'diff_accept_allot', 'diff_accept_order']\n",
    "    df.loc[:, 'mean'] = df[cols].mean(axis=1)\n",
    "    df.loc[:, 'std'] = df[cols].std(axis=1)\n",
    "    df.loc[:, 'min'] = df[cols].min(axis=1)\n",
    "    df.loc[:, 'max'] = df[cols].max(axis=1)\n",
    "\n",
    "    return df\n"
   ]
  },
  {
   "cell_type": "markdown",
   "metadata": {},
   "source": [
    "# Train Valid Split"
   ]
  },
  {
   "cell_type": "code",
   "execution_count": 55,
   "metadata": {},
   "outputs": [],
   "source": [
    "train_df = train[:395778].copy()\n",
    "valid_df = train[395778:].copy()\n",
    "train_df = preprocess(train_df)\n",
    "valid_data = preprocess(valid_df)\n",
    "test_df= preprocess(test)"
   ]
  },
  {
   "cell_type": "markdown",
   "metadata": {},
   "source": [
    "### Rider details feature engineering"
   ]
  },
  {
   "cell_type": "code",
   "execution_count": 60,
   "metadata": {},
   "outputs": [
    {
     "name": "stderr",
     "output_type": "stream",
     "text": [
      "100%|██████████| 594844/594844 [00:06<00:00, 85207.97it/s]\n",
      "100%|██████████| 594844/594844 [00:05<00:00, 106971.88it/s]\n",
      "100%|██████████| 594844/594844 [00:04<00:00, 126177.32it/s]\n",
      "100%|██████████| 594844/594844 [00:05<00:00, 115747.30it/s]\n"
     ]
    }
   ],
   "source": [
    "import pandas as pd\n",
    "\n",
    "# Separate numeric columns and datetime columns\n",
    "numeric_cols = df[rider_cols_mean].select_dtypes(include=[int, float]).columns\n",
    "datetime_cols = df[rider_cols_mean].select_dtypes(include=[np.datetime64]).columns\n",
    "\n",
    "# Calculate cumulative sum only for numeric columns\n",
    "numeric_cumsum = df.groupby('rider_id')[numeric_cols].cumsum()\n",
    "\n",
    "# Handle datetime columns if needed (example: cumulative count instead of cumsum)\n",
    "datetime_cumsum = df.groupby('rider_id')[datetime_cols].cumcount()\n",
    "\n",
    "# Combine the results\n",
    "data = pd.concat([numeric_cumsum, datetime_cumsum], axis=1)\n",
    "\n",
    "# Calculate cumulative means\n",
    "data['cumcounts'] = df.groupby('rider_id').cumcount() + 1\n",
    "for i in numeric_cols:\n",
    "    data[i] = data[[i, 'cumcounts']].progress_apply(lambda x: x[i] / x['cumcounts'], axis=1)\n"
   ]
  },
  {
   "cell_type": "code",
   "execution_count": 62,
   "metadata": {},
   "outputs": [
    {
     "data": {
      "text/html": [
       "<div>\n",
       "<style scoped>\n",
       "    .dataframe tbody tr th:only-of-type {\n",
       "        vertical-align: middle;\n",
       "    }\n",
       "\n",
       "    .dataframe tbody tr th {\n",
       "        vertical-align: top;\n",
       "    }\n",
       "\n",
       "    .dataframe thead th {\n",
       "        text-align: right;\n",
       "    }\n",
       "</style>\n",
       "<table border=\"1\" class=\"dataframe\">\n",
       "  <thead>\n",
       "    <tr style=\"text-align: right;\">\n",
       "      <th></th>\n",
       "      <th>session_time</th>\n",
       "      <th>first_mile_distance</th>\n",
       "      <th>last_mile_distance</th>\n",
       "      <th>total_dist</th>\n",
       "      <th>0</th>\n",
       "      <th>cumcounts</th>\n",
       "    </tr>\n",
       "  </thead>\n",
       "  <tbody>\n",
       "    <tr>\n",
       "      <th>0</th>\n",
       "      <td>NaN</td>\n",
       "      <td>1.566600</td>\n",
       "      <td>2.650000</td>\n",
       "      <td>4.216600</td>\n",
       "      <td>0</td>\n",
       "      <td>1</td>\n",
       "    </tr>\n",
       "    <tr>\n",
       "      <th>1</th>\n",
       "      <td>3.266667</td>\n",
       "      <td>2.520700</td>\n",
       "      <td>2.760000</td>\n",
       "      <td>5.280700</td>\n",
       "      <td>0</td>\n",
       "      <td>1</td>\n",
       "    </tr>\n",
       "    <tr>\n",
       "      <th>2</th>\n",
       "      <td>9.816667</td>\n",
       "      <td>2.207400</td>\n",
       "      <td>4.800000</td>\n",
       "      <td>7.007400</td>\n",
       "      <td>0</td>\n",
       "      <td>1</td>\n",
       "    </tr>\n",
       "    <tr>\n",
       "      <th>3</th>\n",
       "      <td>17.533333</td>\n",
       "      <td>2.189400</td>\n",
       "      <td>6.380000</td>\n",
       "      <td>8.569400</td>\n",
       "      <td>0</td>\n",
       "      <td>1</td>\n",
       "    </tr>\n",
       "    <tr>\n",
       "      <th>4</th>\n",
       "      <td>1.350000</td>\n",
       "      <td>2.787000</td>\n",
       "      <td>4.010000</td>\n",
       "      <td>6.797000</td>\n",
       "      <td>0</td>\n",
       "      <td>1</td>\n",
       "    </tr>\n",
       "    <tr>\n",
       "      <th>...</th>\n",
       "      <td>...</td>\n",
       "      <td>...</td>\n",
       "      <td>...</td>\n",
       "      <td>...</td>\n",
       "      <td>...</td>\n",
       "      <td>...</td>\n",
       "    </tr>\n",
       "    <tr>\n",
       "      <th>144839</th>\n",
       "      <td>137.422523</td>\n",
       "      <td>1.766382</td>\n",
       "      <td>2.750000</td>\n",
       "      <td>4.516382</td>\n",
       "      <td>36</td>\n",
       "      <td>37</td>\n",
       "    </tr>\n",
       "    <tr>\n",
       "      <th>144840</th>\n",
       "      <td>411.332222</td>\n",
       "      <td>0.460262</td>\n",
       "      <td>1.067333</td>\n",
       "      <td>1.360795</td>\n",
       "      <td>29</td>\n",
       "      <td>30</td>\n",
       "    </tr>\n",
       "    <tr>\n",
       "      <th>144841</th>\n",
       "      <td>121.676190</td>\n",
       "      <td>0.996990</td>\n",
       "      <td>2.565571</td>\n",
       "      <td>3.562562</td>\n",
       "      <td>69</td>\n",
       "      <td>70</td>\n",
       "    </tr>\n",
       "    <tr>\n",
       "      <th>144842</th>\n",
       "      <td>456.847764</td>\n",
       "      <td>1.200194</td>\n",
       "      <td>2.513780</td>\n",
       "      <td>3.713974</td>\n",
       "      <td>81</td>\n",
       "      <td>82</td>\n",
       "    </tr>\n",
       "    <tr>\n",
       "      <th>144843</th>\n",
       "      <td>227.974731</td>\n",
       "      <td>1.787710</td>\n",
       "      <td>2.932903</td>\n",
       "      <td>3.780548</td>\n",
       "      <td>30</td>\n",
       "      <td>31</td>\n",
       "    </tr>\n",
       "  </tbody>\n",
       "</table>\n",
       "<p>594844 rows × 6 columns</p>\n",
       "</div>"
      ],
      "text/plain": [
       "        session_time  first_mile_distance  last_mile_distance  total_dist   0  \\\n",
       "0                NaN             1.566600            2.650000    4.216600   0   \n",
       "1           3.266667             2.520700            2.760000    5.280700   0   \n",
       "2           9.816667             2.207400            4.800000    7.007400   0   \n",
       "3          17.533333             2.189400            6.380000    8.569400   0   \n",
       "4           1.350000             2.787000            4.010000    6.797000   0   \n",
       "...              ...                  ...                 ...         ...  ..   \n",
       "144839    137.422523             1.766382            2.750000    4.516382  36   \n",
       "144840    411.332222             0.460262            1.067333    1.360795  29   \n",
       "144841    121.676190             0.996990            2.565571    3.562562  69   \n",
       "144842    456.847764             1.200194            2.513780    3.713974  81   \n",
       "144843    227.974731             1.787710            2.932903    3.780548  30   \n",
       "\n",
       "        cumcounts  \n",
       "0               1  \n",
       "1               1  \n",
       "2               1  \n",
       "3               1  \n",
       "4               1  \n",
       "...           ...  \n",
       "144839         37  \n",
       "144840         30  \n",
       "144841         70  \n",
       "144842         82  \n",
       "144843         31  \n",
       "\n",
       "[594844 rows x 6 columns]"
      ]
     },
     "execution_count": 62,
     "metadata": {},
     "output_type": "execute_result"
    }
   ],
   "source": [
    "rider_deets = data.copy()\n",
    "rider_deets"
   ]
  },
  {
   "cell_type": "code",
   "execution_count": 64,
   "metadata": {},
   "outputs": [],
   "source": [
    "time_columns = ['order_time', 'order_date', 'allot_time', 'accept_time',\n",
    "       'pickup_time', 'delivered_time','cancelled_time']\n",
    "numerical_columns = ['first_mile_distance',\n",
    "       'last_mile_distance', 'alloted_orders', 'delivered_orders', 'lifetime_order_count',\n",
    "                    'session_time','diff_allot_order', 'diff_accept_allot',\n",
    "       'diff_accept_order', 'total_dist','cum_diff_allot_order', 'cum_diff_accept_allot',\n",
    "       'cum_diff_accept_order', 'cum_total_dist', 'allotted_orders',\n",
    "                     'riders_available','orders_cum','reliability']\n",
    "categorical_columns = ['reassignment_method','reassignment_reason','reassigned_order','order_day','hour_in_day','undelivered_orders','day_of_week',\n",
    "                       'order_today', 'allotted', 'deliveries','period_in_day','saturday','first_mile', 'last_mile','orders_diff']"
   ]
  },
  {
   "cell_type": "markdown",
   "metadata": {},
   "source": [
    "# Undersampling negative class and combining"
   ]
  },
  {
   "cell_type": "code",
   "execution_count": 67,
   "metadata": {},
   "outputs": [],
   "source": [
    "train_df_c = train_df[train_df['cancelled']==1].sample(int(train_df[train_df['cancelled']==1].shape[0]*1),replace=False,random_state=42)\n",
    "train_df_d = train_df[train_df['cancelled']==0].sample(int(train_df_c.shape[0])*1,random_state=42)"
   ]
  },
  {
   "cell_type": "code",
   "execution_count": 69,
   "metadata": {},
   "outputs": [],
   "source": [
    "combined_df = pd.concat([train_df_c,train_df_d])\n",
    "combined_df = combined_df.sort_values('order_time')"
   ]
  },
  {
   "cell_type": "code",
   "execution_count": 71,
   "metadata": {},
   "outputs": [],
   "source": [
    "cols = ['first_mile_distance',\n",
    "       'last_mile_distance', 'alloted_orders', 'delivered_orders',\n",
    "       'undelivered_orders', 'lifetime_order_count',\n",
    "       'session_time',\n",
    "       'order_day', 'diff_allot_order', 'diff_accept_allot',\n",
    "       'diff_accept_order', 'total_dist', 'hour_in_day', 'day_of_week','cum_diff_allot_order', 'cum_diff_accept_allot',\n",
    "       'cum_diff_accept_order','reassigned_order',\n",
    "       'cum_total_dist', 'order_today','rider_id','orders_cum',\n",
    "       'saturday','orders_diff','riders_available','cum_first_mile_dist','cum_last_mile_dist','reliability','mean','std','min','max']"
   ]
  },
  {
   "cell_type": "markdown",
   "metadata": {},
   "source": [
    "# Combining datasets with details about the rider"
   ]
  },
  {
   "cell_type": "code",
   "execution_count": 74,
   "metadata": {},
   "outputs": [],
   "source": [
    "combined_df = combined_df[cols+['cancelled']]\n",
    "combined_df = pd.merge(combined_df,rider_deets[:-test_df.shape[0]],left_index=True,right_index=True)\n",
    "\n",
    "X_train = combined_df.drop('cancelled',axis=1)\n",
    "y_train = combined_df['cancelled']\n",
    "\n",
    "\n",
    "valid_df = valid_data[cols+['cancelled']]\n",
    "valid_df = pd.merge(valid_df,rider_deets[:-test_df.shape[0]],left_index=True,right_index=True)\n",
    "\n",
    "X_test = valid_df.drop('cancelled',axis=1)\n",
    "y_test = valid_df['cancelled']"
   ]
  },
  {
   "cell_type": "markdown",
   "metadata": {},
   "source": [
    "# Predictions using Random Forests Classifier"
   ]
  },
  {
   "cell_type": "code",
   "execution_count": 87,
   "metadata": {},
   "outputs": [],
   "source": [
    "X_train.columns = X_train.columns.astype(str)\n",
    "X_test.columns = X_test.columns.astype(str)\n",
    "\n",
    "# Define the parameters for the RandomForestClassifier\n",
    "params = {\n",
    "    'n_estimators': 900,\n",
    "    'max_depth': 40,\n",
    "    'random_state': 2020,\n",
    "    'min_samples_split': 10,\n",
    "    'min_samples_leaf': 2\n",
    "}\n",
    "\n",
    "# Initialize and fit the RandomForestClassifier\n",
    "rf = RandomForestClassifier(**params)\n",
    "rf.fit(X_train, y_train)\n",
    "\n",
    "# Make predictions\n",
    "rf_preds = rf.predict(X_test)\n",
    "rf_preds_prob = rf.predict_proba(X_test)[:, 1]"
   ]
  },
  {
   "cell_type": "code",
   "execution_count": 89,
   "metadata": {},
   "outputs": [
    {
     "name": "stdout",
     "output_type": "stream",
     "text": [
      "              precision    recall  f1-score   support\n",
      "\n",
      "           0       0.99      0.85      0.92     53618\n",
      "           1       0.04      0.54      0.07       604\n",
      "\n",
      "    accuracy                           0.85     54222\n",
      "   macro avg       0.52      0.69      0.49     54222\n",
      "weighted avg       0.98      0.85      0.91     54222\n",
      "\n",
      "Test Accuracy:  0.8467596178672864\n",
      "Train Accuracy:  0.9855873428695275\n",
      "AUC Score: 0.7418450275792032\n"
     ]
    },
    {
     "data": {
      "image/png": "[encoded data removed]",
      "text/plain": [
       "<Figure size 640x480 with 2 Axes>"
      ]
     },
     "metadata": {},
     "output_type": "display_data"
    }
   ],
   "source": [
    "result = confusion_matrix(y_test, rf_preds)\n",
    "r = np.sum(result,axis=1)\n",
    "a,b,c,d=result[0][0]/r[0],result[0][1]/r[0],result[1][0]/r[1],result[1][1]/r[1]\n",
    "sns.heatmap([[a,b],[c,d]], annot=True, fmt=\".2%\", cmap='Blues')\n",
    "print(classification_report(y_test,rf_preds))\n",
    "print('Test Accuracy: ',rf.score(X_test,y_test))\n",
    "print('Train Accuracy: ',rf.score(X_train,y_train))\n",
    "print('AUC Score:',roc_auc_score(y_test,rf_preds_prob))"
   ]
  },
  {
   "cell_type": "markdown",
   "metadata": {},
   "source": [
    "# XGBoost Classifier"
   ]
  },
  {
   "cell_type": "code",
   "execution_count": 98,
   "metadata": {},
   "outputs": [
    {
     "name": "stdout",
     "output_type": "stream",
     "text": [
      "[0]\tvalidation_0-auc:0.73473\tvalidation_1-auc:0.69530\n",
      "[1]\tvalidation_0-auc:0.74416\tvalidation_1-auc:0.71329\n",
      "[2]\tvalidation_0-auc:0.75367\tvalidation_1-auc:0.72785\n",
      "[3]\tvalidation_0-auc:0.75283\tvalidation_1-auc:0.72594\n",
      "[4]\tvalidation_0-auc:0.75595\tvalidation_1-auc:0.72901\n",
      "[5]\tvalidation_0-auc:0.75783\tvalidation_1-auc:0.73088\n",
      "[6]\tvalidation_0-auc:0.76118\tvalidation_1-auc:0.73090\n",
      "[7]\tvalidation_0-auc:0.76244\tvalidation_1-auc:0.72925\n",
      "[8]\tvalidation_0-auc:0.76392\tvalidation_1-auc:0.72925\n",
      "[9]\tvalidation_0-auc:0.76518\tvalidation_1-auc:0.73130\n",
      "[10]\tvalidation_0-auc:0.76603\tvalidation_1-auc:0.73108\n",
      "[11]\tvalidation_0-auc:0.76631\tvalidation_1-auc:0.73218\n",
      "[12]\tvalidation_0-auc:0.76694\tvalidation_1-auc:0.73244\n",
      "[13]\tvalidation_0-auc:0.76682\tvalidation_1-auc:0.73174\n",
      "[14]\tvalidation_0-auc:0.76626\tvalidation_1-auc:0.73189\n",
      "[15]\tvalidation_0-auc:0.76633\tvalidation_1-auc:0.73291\n",
      "[16]\tvalidation_0-auc:0.76655\tvalidation_1-auc:0.73302\n",
      "[17]\tvalidation_0-auc:0.76642\tvalidation_1-auc:0.73259\n",
      "[18]\tvalidation_0-auc:0.76759\tvalidation_1-auc:0.73378\n",
      "[19]\tvalidation_0-auc:0.76804\tvalidation_1-auc:0.73443\n",
      "[20]\tvalidation_0-auc:0.76787\tvalidation_1-auc:0.73396\n",
      "[21]\tvalidation_0-auc:0.76858\tvalidation_1-auc:0.73492\n",
      "[22]\tvalidation_0-auc:0.76928\tvalidation_1-auc:0.73535\n",
      "[23]\tvalidation_0-auc:0.76984\tvalidation_1-auc:0.73568\n",
      "[24]\tvalidation_0-auc:0.76980\tvalidation_1-auc:0.73554\n",
      "[25]\tvalidation_0-auc:0.77036\tvalidation_1-auc:0.73574\n",
      "[26]\tvalidation_0-auc:0.77060\tvalidation_1-auc:0.73642\n",
      "[27]\tvalidation_0-auc:0.77019\tvalidation_1-auc:0.73654\n",
      "[28]\tvalidation_0-auc:0.77006\tvalidation_1-auc:0.73649\n",
      "[29]\tvalidation_0-auc:0.77036\tvalidation_1-auc:0.73706\n",
      "[30]\tvalidation_0-auc:0.77056\tvalidation_1-auc:0.73695\n",
      "[31]\tvalidation_0-auc:0.77065\tvalidation_1-auc:0.73685\n",
      "[32]\tvalidation_0-auc:0.77073\tvalidation_1-auc:0.73715\n",
      "[33]\tvalidation_0-auc:0.77109\tvalidation_1-auc:0.73673\n",
      "[34]\tvalidation_0-auc:0.77148\tvalidation_1-auc:0.73676\n",
      "[35]\tvalidation_0-auc:0.77186\tvalidation_1-auc:0.73696\n",
      "[36]\tvalidation_0-auc:0.77200\tvalidation_1-auc:0.73717\n",
      "[37]\tvalidation_0-auc:0.77243\tvalidation_1-auc:0.73735\n",
      "[38]\tvalidation_0-auc:0.77260\tvalidation_1-auc:0.73771\n",
      "[39]\tvalidation_0-auc:0.77300\tvalidation_1-auc:0.73781\n",
      "[40]\tvalidation_0-auc:0.77322\tvalidation_1-auc:0.73886\n",
      "[41]\tvalidation_0-auc:0.77339\tvalidation_1-auc:0.73915\n",
      "[42]\tvalidation_0-auc:0.77377\tvalidation_1-auc:0.73964\n",
      "[43]\tvalidation_0-auc:0.77385\tvalidation_1-auc:0.73980\n",
      "[44]\tvalidation_0-auc:0.77416\tvalidation_1-auc:0.73959\n",
      "[45]\tvalidation_0-auc:0.77440\tvalidation_1-auc:0.73983\n",
      "[46]\tvalidation_0-auc:0.77469\tvalidation_1-auc:0.74001\n",
      "[47]\tvalidation_0-auc:0.77485\tvalidation_1-auc:0.74037\n",
      "[48]\tvalidation_0-auc:0.77506\tvalidation_1-auc:0.74020\n",
      "[49]\tvalidation_0-auc:0.77512\tvalidation_1-auc:0.74053\n",
      "[50]\tvalidation_0-auc:0.77534\tvalidation_1-auc:0.74092\n",
      "[51]\tvalidation_0-auc:0.77546\tvalidation_1-auc:0.74151\n",
      "[52]\tvalidation_0-auc:0.77569\tvalidation_1-auc:0.74174\n",
      "[53]\tvalidation_0-auc:0.77593\tvalidation_1-auc:0.74176\n",
      "[54]\tvalidation_0-auc:0.77621\tvalidation_1-auc:0.74171\n",
      "[55]\tvalidation_0-auc:0.77653\tvalidation_1-auc:0.74146\n",
      "[56]\tvalidation_0-auc:0.77669\tvalidation_1-auc:0.74132\n",
      "[57]\tvalidation_0-auc:0.77667\tvalidation_1-auc:0.74130\n",
      "[58]\tvalidation_0-auc:0.77677\tvalidation_1-auc:0.74136\n",
      "[59]\tvalidation_0-auc:0.77686\tvalidation_1-auc:0.74146\n",
      "[60]\tvalidation_0-auc:0.77707\tvalidation_1-auc:0.74171\n",
      "[61]\tvalidation_0-auc:0.77711\tvalidation_1-auc:0.74165\n",
      "[62]\tvalidation_0-auc:0.77726\tvalidation_1-auc:0.74180\n",
      "[63]\tvalidation_0-auc:0.77722\tvalidation_1-auc:0.74161\n",
      "[64]\tvalidation_0-auc:0.77732\tvalidation_1-auc:0.74162\n",
      "[65]\tvalidation_0-auc:0.77731\tvalidation_1-auc:0.74178\n",
      "[66]\tvalidation_0-auc:0.77762\tvalidation_1-auc:0.74188\n",
      "[67]\tvalidation_0-auc:0.77764\tvalidation_1-auc:0.74154\n",
      "[68]\tvalidation_0-auc:0.77788\tvalidation_1-auc:0.74151\n",
      "[69]\tvalidation_0-auc:0.77807\tvalidation_1-auc:0.74181\n",
      "[70]\tvalidation_0-auc:0.77824\tvalidation_1-auc:0.74233\n",
      "[71]\tvalidation_0-auc:0.77830\tvalidation_1-auc:0.74220\n",
      "[72]\tvalidation_0-auc:0.77836\tvalidation_1-auc:0.74243\n",
      "[73]\tvalidation_0-auc:0.77847\tvalidation_1-auc:0.74243\n",
      "[74]\tvalidation_0-auc:0.77856\tvalidation_1-auc:0.74227\n",
      "[75]\tvalidation_0-auc:0.77853\tvalidation_1-auc:0.74232\n",
      "[76]\tvalidation_0-auc:0.77864\tvalidation_1-auc:0.74223\n",
      "[77]\tvalidation_0-auc:0.77874\tvalidation_1-auc:0.74223\n",
      "[78]\tvalidation_0-auc:0.77894\tvalidation_1-auc:0.74245\n",
      "[79]\tvalidation_0-auc:0.77892\tvalidation_1-auc:0.74249\n",
      "[80]\tvalidation_0-auc:0.77904\tvalidation_1-auc:0.74260\n",
      "[81]\tvalidation_0-auc:0.77922\tvalidation_1-auc:0.74255\n",
      "[82]\tvalidation_0-auc:0.77927\tvalidation_1-auc:0.74236\n",
      "[83]\tvalidation_0-auc:0.77938\tvalidation_1-auc:0.74262\n",
      "[84]\tvalidation_0-auc:0.77955\tvalidation_1-auc:0.74295\n",
      "[85]\tvalidation_0-auc:0.77964\tvalidation_1-auc:0.74317\n",
      "[86]\tvalidation_0-auc:0.77974\tvalidation_1-auc:0.74320\n",
      "[87]\tvalidation_0-auc:0.77983\tvalidation_1-auc:0.74319\n",
      "[88]\tvalidation_0-auc:0.77998\tvalidation_1-auc:0.74312\n",
      "[89]\tvalidation_0-auc:0.78011\tvalidation_1-auc:0.74313\n",
      "[90]\tvalidation_0-auc:0.78014\tvalidation_1-auc:0.74315\n",
      "[91]\tvalidation_0-auc:0.78024\tvalidation_1-auc:0.74333\n",
      "[92]\tvalidation_0-auc:0.78035\tvalidation_1-auc:0.74342\n",
      "[93]\tvalidation_0-auc:0.78054\tvalidation_1-auc:0.74334\n",
      "[94]\tvalidation_0-auc:0.78064\tvalidation_1-auc:0.74356\n",
      "[95]\tvalidation_0-auc:0.78079\tvalidation_1-auc:0.74347\n",
      "[96]\tvalidation_0-auc:0.78086\tvalidation_1-auc:0.74332\n",
      "[97]\tvalidation_0-auc:0.78108\tvalidation_1-auc:0.74335\n",
      "[98]\tvalidation_0-auc:0.78114\tvalidation_1-auc:0.74334\n",
      "[99]\tvalidation_0-auc:0.78136\tvalidation_1-auc:0.74336\n"
     ]
    }
   ],
   "source": [
    "X_train.columns = X_train.columns.astype(str)\n",
    "X_test.columns = X_test.columns.astype(str)\n",
    "\n",
    "# Define the parameters for the XGBClassifier\n",
    "params = {\n",
    "    'lambda': 0.20177241158844367,\n",
    "    'alpha': 3.4670054832209787,\n",
    "    'colsample_bytree': 0.8,\n",
    "    'subsample': 0.6,\n",
    "    'learning_rate': 0.02,\n",
    "    'max_depth': 5,\n",
    "    'random_state': 48,\n",
    "    'min_child_weight': 37,\n",
    "    'eval_metric': 'auc'  # Add eval_metric here\n",
    "}\n",
    "\n",
    "# Initialize the XGBClassifier\n",
    "xgb_model = xgb.XGBClassifier(**params)\n",
    "\n",
    "# Fit the model with eval_set to monitor performance\n",
    "eval_set = [(X_train, y_train), (X_test, y_test)]\n",
    "xgb_model.fit(X_train, y_train, eval_set=eval_set, verbose=True)\n",
    "\n",
    "# Make predictions\n",
    "xgby_pred = xgb_model.predict(X_test)\n",
    "xgby_preds_prob = xgb_model.predict_proba(X_test)[:, 1]\n"
   ]
  },
  {
   "cell_type": "code",
   "execution_count": 100,
   "metadata": {},
   "outputs": [
    {
     "name": "stdout",
     "output_type": "stream",
     "text": [
      "Classification Report:\n",
      "Train Accuracy:  0.7170567837017772\n",
      "Test Accuracy: 0.8758253107594703\n",
      "AUC Score: 0.743357767691437\n"
     ]
    },
    {
     "data": {
      "image/png": "[encoded data removed]",
      "text/plain": [
       "<Figure size 640x480 with 2 Axes>"
      ]
     },
     "metadata": {},
     "output_type": "display_data"
    }
   ],
   "source": [
    "result = confusion_matrix(y_test, xgby_pred)\n",
    "r = np.sum(result,axis=1)\n",
    "a,b,c,d=result[0][0]/r[0],result[0][1]/r[0],result[1][0]/r[1],result[1][1]/r[1]\n",
    "sns.heatmap([[a,b],[c,d]], annot=True, fmt=\".2%\", cmap='Blues')\n",
    "result1 = classification_report(y_test, xgby_pred)\n",
    "print(\"Classification Report:\",)\n",
    "result2 = accuracy_score(y_test,xgby_pred)\n",
    "print('Train Accuracy: ',xgb_model.score(X_train,y_train))\n",
    "print(\"Test Accuracy:\",result2)\n",
    "print('AUC Score:',roc_auc_score(y_test,xgby_preds_prob))"
   ]
  },
  {
   "cell_type": "code",
   "execution_count": 102,
   "metadata": {},
   "outputs": [
    {
     "name": "stdout",
     "output_type": "stream",
     "text": [
      "[[46531  7087]\n",
      " [  291   313]]\n",
      "              precision    recall  f1-score   support\n",
      "\n",
      "           0       0.99      0.87      0.93     53618\n",
      "           1       0.04      0.52      0.08       604\n",
      "\n",
      "    accuracy                           0.86     54222\n",
      "   macro avg       0.52      0.69      0.50     54222\n",
      "weighted avg       0.98      0.86      0.92     54222\n",
      "\n",
      "AUC Score:  0.7449049679125747\n"
     ]
    },
    {
     "data": {
      "image/png": "[encoded data removed]",
      "text/plain": [
       "<Figure size 640x480 with 2 Axes>"
      ]
     },
     "metadata": {},
     "output_type": "display_data"
    }
   ],
   "source": [
    "check = pd.DataFrame()\n",
    "check['rf_pred'] = rf_preds_prob\n",
    "check['xgb_pred'] = xgby_preds_prob\n",
    "check['sums'] = check[['rf_pred','xgb_pred']].mean(axis=1)\n",
    "check['cancelled'] = y_test.reset_index()['cancelled']\n",
    "check['pred'] = check['sums'].apply(lambda x: 1 if x>=0.5 else 0)\n",
    "result = confusion_matrix(y_test, check['pred'])\n",
    "print(result)\n",
    "a,b,c,d=result[0][0]/r[0],result[0][1]/r[0],result[1][0]/r[1],result[1][1]/r[1]\n",
    "sns.heatmap([[a,b],[c,d]], annot=True, fmt=\".2%\", cmap='Blues')\n",
    "print(classification_report(y_test, check['pred']))\n",
    "print(\"AUC Score: \",roc_auc_score(y_test,check['sums']))"
   ]
  },
  {
   "cell_type": "markdown",
   "metadata": {},
   "source": [
    "# Predicting on test data and submission"
   ]
  },
  {
   "cell_type": "code",
   "execution_count": 105,
   "metadata": {},
   "outputs": [],
   "source": [
    "test_df = test_df[cols]\n",
    "test_data = pd.merge(test_df,rider_deets[rider_deets.shape[0]//2:],left_index=True,right_index=True)"
   ]
  },
  {
   "cell_type": "code",
   "execution_count": 109,
   "metadata": {},
   "outputs": [],
   "source": [
    "test_data.columns = test_data.columns.astype(str)\n",
    "test_data = test_data.reindex(columns=X_train.columns, fill_value=0)\n",
    "y_preds_rf = rf.predict_proba(test_data)[:, 1]\n",
    "y_preds_xgb = xgb_model.predict_proba(test_data)[:, 1]"
   ]
  }
 ],
 "metadata": {
  "kernelspec": {
   "display_name": "Python 3 (ipykernel)",
   "language": "python",
   "name": "python3"
  },
  "language_info": {
   "codemirror_mode": {
    "name": "ipython",
    "version": 3
   },
   "file_extension": ".py",
   "mimetype": "text/x-python",
   "name": "python",
   "nbconvert_exporter": "python",
   "pygments_lexer": "ipython3",
   "version": "3.12.4"
  }
 },
 "nbformat": 4,
 "nbformat_minor": 4
}
